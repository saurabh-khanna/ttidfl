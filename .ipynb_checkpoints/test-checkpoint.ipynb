{
 "cells": [
  {
   "cell_type": "code",
   "execution_count": 1,
   "metadata": {},
   "outputs": [],
   "source": [
    "import pandas as pd\n",
    "import requests\n",
    "from bs4 import BeautifulSoup\n",
    "from tqdm import tqdm\n",
    "from datetime import datetime\n",
    "\n",
    "tqdm.pandas()"
   ]
  },
  {
   "cell_type": "code",
   "execution_count": 2,
   "metadata": {},
   "outputs": [],
   "source": [
    "page = requests.get(\"https://thefangirlverdict.com/index/all-reviews/full-list-of-shows/\")\n",
    "soup = BeautifulSoup(page.content)\n",
    "\n",
    "#print(soup.prettify())"
   ]
  },
  {
   "cell_type": "code",
   "execution_count": 3,
   "metadata": {},
   "outputs": [],
   "source": [
    "for p in soup.find_all(\"p\", style=\"text-align:justify\"):\n",
    "    p.decompose()"
   ]
  },
  {
   "cell_type": "code",
   "execution_count": 10,
   "metadata": {},
   "outputs": [
    {
     "data": {
      "text/plain": [
       "<p><span style=\"color:red\"><strong>Edited to add:</strong></span></p>"
      ]
     },
     "execution_count": 10,
     "metadata": {},
     "output_type": "execute_result"
    }
   ],
   "source": [
    "soup.select_one(\"#post-7658 > div > p:nth-child(1)\")"
   ]
  },
  {
   "cell_type": "code",
   "execution_count": null,
   "metadata": {},
   "outputs": [],
   "source": []
  },
  {
   "cell_type": "code",
   "execution_count": 28,
   "metadata": {},
   "outputs": [
    {
     "name": "stderr",
     "output_type": "stream",
     "text": [
      "100%|█████████████████████████████████████████████████████████████████████████████████████████████████████████████████████████████████████████████████████████████████████| 700/700 [02:25<00:00,  4.80it/s]\n"
     ]
    }
   ],
   "source": [
    "names = []\n",
    "urls = []\n",
    "grades = []\n",
    "\n",
    "for x in tqdm(range(700)):\n",
    "    \n",
    "    element = soup.select_one(\"#post-7658 > div > p:nth-child(\" + str(x) + \")\")\n",
    "    if element is None:\n",
    "        continue\n",
    "    \n",
    "    kdrama = element.findChildren(\"a\" , recursive=False)\n",
    "    #print(kdrama)\n",
    "    grade = element.findChildren(\"strong\", recursive=False)\n",
    "    #print(grade)\n",
    "    \n",
    "    if kdrama:\n",
    "        names.append(kdrama[0].contents[0])\n",
    "        urls.append(kdrama[0].get(\"href\"))\n",
    "        if grade:\n",
    "            grades.append(grade[0].text)\n",
    "        else:\n",
    "            grades.append(\"NA\")"
   ]
  },
  {
   "cell_type": "code",
   "execution_count": 30,
   "metadata": {},
   "outputs": [],
   "source": [
    "df = pd.DataFrame({\"source\": names, \"url\": urls, \"rating\": grades})"
   ]
  },
  {
   "cell_type": "code",
   "execution_count": 37,
   "metadata": {},
   "outputs": [
    {
     "data": {
      "text/plain": [
       "B+     96\n",
       "B      93\n",
       "A-     58\n",
       "A      53\n",
       "B-     42\n",
       "D      42\n",
       "B++    40\n",
       "C+     26\n",
       "A+     19\n",
       "NA     18\n",
       "C      10\n",
       "C++     8\n",
       "A++     6\n",
       "C-      4\n",
       "D       2\n",
       "B       2\n",
       "D+      1\n",
       "Name: rating, dtype: int64"
      ]
     },
     "execution_count": 37,
     "metadata": {},
     "output_type": "execute_result"
    }
   ],
   "source": [
    "df['rating'].value_counts()"
   ]
  },
  {
   "cell_type": "code",
   "execution_count": null,
   "metadata": {},
   "outputs": [],
   "source": [
    "df['rating'] = df['rating'].replace(['A++', 'A+', 'A', 'A-','B++','B+','B','B-','C++', 'C+', 'C', 'C-','D++','D+','D','D-'],['A++', 'A+', 'A', 'A-','B++','B+','B','B-','C++', 'C+', 'C', 'C-','D++','D+','D','D-'])"
   ]
  },
  {
   "cell_type": "code",
   "execution_count": null,
   "metadata": {},
   "outputs": [],
   "source": []
  }
 ],
 "metadata": {
  "interpreter": {
   "hash": "aee8b7b246df8f9039afb4144a1f6fd8d2ca17a180786b69acc140d282b71a49"
  },
  "kernelspec": {
   "display_name": "Python 3.9.7 64-bit",
   "language": "python",
   "name": "python397jvsc74a57bd0aee8b7b246df8f9039afb4144a1f6fd8d2ca17a180786b69acc140d282b71a49"
  },
  "language_info": {
   "codemirror_mode": {
    "name": "ipython",
    "version": 3
   },
   "file_extension": ".py",
   "mimetype": "text/x-python",
   "name": "python",
   "nbconvert_exporter": "python",
   "pygments_lexer": "ipython3",
   "version": "3.9.7"
  }
 },
 "nbformat": 4,
 "nbformat_minor": 4
}
