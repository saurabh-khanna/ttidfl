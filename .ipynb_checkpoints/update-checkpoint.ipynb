{
 "cells": [
  {
   "cell_type": "code",
   "execution_count": 15,
   "metadata": {},
   "outputs": [],
   "source": [
    "import numpy as np\n",
    "import pandas as pd\n",
    "import requests\n",
    "from bs4 import BeautifulSoup\n",
    "from tqdm import tqdm\n",
    "from datetime import datetime\n",
    "import re\n",
    "from unidecode import unidecode\n",
    "tqdm.pandas()"
   ]
  },
  {
   "cell_type": "code",
   "execution_count": 2,
   "metadata": {},
   "outputs": [],
   "source": [
    "page = requests.get(\"https://thefangirlverdict.com/index/all-reviews/full-list-of-shows/\")\n",
    "soup = BeautifulSoup(page.content)"
   ]
  },
  {
   "cell_type": "code",
   "execution_count": 3,
   "metadata": {},
   "outputs": [],
   "source": [
    "for p in soup.find_all(\"p\", style=\"text-align:justify\"):\n",
    "    p.decompose()"
   ]
  },
  {
   "cell_type": "code",
   "execution_count": 4,
   "metadata": {},
   "outputs": [
    {
     "name": "stderr",
     "output_type": "stream",
     "text": [
      "100%|█████████████████████████████████████████| 700/700 [04:00<00:00,  2.92it/s]\n"
     ]
    }
   ],
   "source": [
    "names = []\n",
    "urls = []\n",
    "grades = []\n",
    "\n",
    "for x in tqdm(range(700)):\n",
    "    \n",
    "    element = soup.select_one(\"#post-7658 > div > p:nth-child(\" + str(x) + \")\")\n",
    "    if element is None:\n",
    "        continue\n",
    "    \n",
    "    kdrama = element.findChildren(\"a\" , recursive=False)\n",
    "    #print(kdrama)\n",
    "    grade = element.findChildren(\"strong\", recursive=False)\n",
    "    #print(grade)\n",
    "    \n",
    "    if kdrama:\n",
    "        names.append(kdrama[0].contents[0])\n",
    "        urls.append(kdrama[0].get(\"href\"))\n",
    "        if grade:\n",
    "            grades.append(grade[0].text)\n",
    "        else:\n",
    "            grades.append(\"NA\")"
   ]
  },
  {
   "cell_type": "code",
   "execution_count": 5,
   "metadata": {},
   "outputs": [],
   "source": [
    "df = pd.DataFrame({\"source\": names, \"url\": urls, \"rating\": grades})"
   ]
  },
  {
   "cell_type": "code",
   "execution_count": 6,
   "metadata": {},
   "outputs": [],
   "source": [
    "# df['rating'] = df['rating'].replace(['A++', 'A+', 'A', 'A-','B++','B+','B','B-','C++', 'C+', 'C', 'C-','D++','D+','D','D-'],['A1', 'A2', 'A3', 'A4','B1','B2','B3','B4','C1', 'C2', 'C3', 'C4','D1','D2','D3','D4'])"
   ]
  },
  {
   "cell_type": "code",
   "execution_count": 22,
   "metadata": {},
   "outputs": [],
   "source": [
    "# handle NAs\n",
    "df = df.replace('NA', np.NaN)\n",
    "df.dropna(inplace = True)"
   ]
  },
  {
   "cell_type": "code",
   "execution_count": 25,
   "metadata": {},
   "outputs": [
    {
     "data": {
      "text/html": [
       "<div>\n",
       "<style scoped>\n",
       "    .dataframe tbody tr th:only-of-type {\n",
       "        vertical-align: middle;\n",
       "    }\n",
       "\n",
       "    .dataframe tbody tr th {\n",
       "        vertical-align: top;\n",
       "    }\n",
       "\n",
       "    .dataframe thead th {\n",
       "        text-align: right;\n",
       "    }\n",
       "</style>\n",
       "<table border=\"1\" class=\"dataframe\">\n",
       "  <thead>\n",
       "    <tr style=\"text-align: right;\">\n",
       "      <th></th>\n",
       "      <th>source</th>\n",
       "      <th>url</th>\n",
       "      <th>rating</th>\n",
       "      <th>year</th>\n",
       "    </tr>\n",
       "  </thead>\n",
       "  <tbody>\n",
       "    <tr>\n",
       "      <th>2</th>\n",
       "      <td>1% of Anything [Something About 1%]</td>\n",
       "      <td>http://thefangirlverdict.com/2017/04/29/flash-...</td>\n",
       "      <td>B+</td>\n",
       "      <td>2017</td>\n",
       "    </tr>\n",
       "    <tr>\n",
       "      <th>3</th>\n",
       "      <td>18 Again</td>\n",
       "      <td>https://thefangirlverdict.com/2021/01/08/revie...</td>\n",
       "      <td>A</td>\n",
       "      <td>2021</td>\n",
       "    </tr>\n",
       "    <tr>\n",
       "      <th>4</th>\n",
       "      <td>1st Shop Of Coffee Prince, The [Coffee Prince]</td>\n",
       "      <td>http://thefangirlverdict.com/2019/01/03/review...</td>\n",
       "      <td>A</td>\n",
       "      <td>2019</td>\n",
       "    </tr>\n",
       "    <tr>\n",
       "      <th>5</th>\n",
       "      <td>20’s [Twenty Years Old]</td>\n",
       "      <td>http://thefangirlverdict.com/2015/04/10/flash-...</td>\n",
       "      <td>B+</td>\n",
       "      <td>2015</td>\n",
       "    </tr>\n",
       "    <tr>\n",
       "      <th>6</th>\n",
       "      <td>20th Century Boy And Girl</td>\n",
       "      <td>http://thefangirlverdict.com/2017/12/02/flash-...</td>\n",
       "      <td>B</td>\n",
       "      <td>2017</td>\n",
       "    </tr>\n",
       "  </tbody>\n",
       "</table>\n",
       "</div>"
      ],
      "text/plain": [
       "                                           source  \\\n",
       "2             1% of Anything [Something About 1%]   \n",
       "3                                        18 Again   \n",
       "4  1st Shop Of Coffee Prince, The [Coffee Prince]   \n",
       "5                         20’s [Twenty Years Old]   \n",
       "6                       20th Century Boy And Girl   \n",
       "\n",
       "                                                 url rating  year  \n",
       "2  http://thefangirlverdict.com/2017/04/29/flash-...     B+  2017  \n",
       "3  https://thefangirlverdict.com/2021/01/08/revie...      A  2021  \n",
       "4  http://thefangirlverdict.com/2019/01/03/review...      A  2019  \n",
       "5  http://thefangirlverdict.com/2015/04/10/flash-...     B+  2015  \n",
       "6  http://thefangirlverdict.com/2017/12/02/flash-...      B  2017  "
      ]
     },
     "execution_count": 25,
     "metadata": {},
     "output_type": "execute_result"
    }
   ],
   "source": [
    "df[\"year\"] = df.apply(lambda row: re.search(r'\\d+', row[\"url\"]).group(), axis=1)\n",
    "# df[\"source\"] = df.apply(lambda row: unidecode(row[\"source\"]), axis=1)\n",
    "df.head()"
   ]
  },
  {
   "cell_type": "code",
   "execution_count": 8,
   "metadata": {},
   "outputs": [],
   "source": [
    "df.to_csv(\"df.csv\", encoding='utf-8', index=False)"
   ]
  },
  {
   "cell_type": "code",
   "execution_count": null,
   "metadata": {},
   "outputs": [],
   "source": []
  }
 ],
 "metadata": {
  "interpreter": {
   "hash": "aee8b7b246df8f9039afb4144a1f6fd8d2ca17a180786b69acc140d282b71a49"
  },
  "kernelspec": {
   "display_name": "Python 3 (ipykernel)",
   "language": "python",
   "name": "python3"
  },
  "language_info": {
   "codemirror_mode": {
    "name": "ipython",
    "version": 3
   },
   "file_extension": ".py",
   "mimetype": "text/x-python",
   "name": "python",
   "nbconvert_exporter": "python",
   "pygments_lexer": "ipython3",
   "version": "3.9.7"
  }
 },
 "nbformat": 4,
 "nbformat_minor": 4
}
